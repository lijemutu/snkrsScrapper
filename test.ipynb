{
 "metadata": {
  "language_info": {
   "codemirror_mode": {
    "name": "ipython",
    "version": 3
   },
   "file_extension": ".py",
   "mimetype": "text/x-python",
   "name": "python",
   "nbconvert_exporter": "python",
   "pygments_lexer": "ipython3",
   "version": "3.8.5-final"
  },
  "orig_nbformat": 2,
  "kernelspec": {
   "name": "python3",
   "display_name": "Python 3",
   "language": "python"
  }
 },
 "nbformat": 4,
 "nbformat_minor": 2,
 "cells": [
  {
   "source": [
    "# Using ScraperApi service buscando var products ya que se genera automaticamente el codigo"
   ],
   "cell_type": "markdown",
   "metadata": {}
  },
  {
   "cell_type": "code",
   "execution_count": 30,
   "metadata": {},
   "outputs": [],
   "source": [
    "from scraper_api import ScraperAPIClient\n",
    "\n",
    "headers = {\n",
    "    'Connection': 'keep-alive',\n",
    "    'Cache-Control': 'max-age=0',\n",
    "    'Upgrade-Insecure-Requests': '1',\n",
    "    'User-Agent': 'Mozilla/5.0 (Windows NT 10.0; Win64; x64) AppleWebKit/537.36 (KHTML, like Gecko) Chrome/88.0.4324.150 Safari/537.36',\n",
    "    'Accept': 'text/html,application/xhtml+xml,application/xml;q=0.9,image/avif,image/webp,image/apng,*/*;q=0.8,application/signed-exchange;v=b3;q=0.9',\n",
    "    'Sec-Fetch-Site': 'none',\n",
    "    'Sec-Fetch-Mode': 'navigate',\n",
    "    'Sec-Fetch-User': '?1',\n",
    "    'Sec-Fetch-Dest': 'document',\n",
    "    'Accept-Language': 'es-MX,es;q=0.9,en-US;q=0.8,en;q=0.7,es-419;q=0.6',\n",
    "    'If-Modified-Since': 'Thu, 01 Jan 1970 00:00:01 GMT',\n",
    "}\n",
    "\n",
    "client = ScraperAPIClient('aba275ef5f8f713e086a1a0ab240dd5c')\n",
    "result = client.get(url = 'https://www.innvictus.com/lanzamientos',headers=headers)"
   ]
  },
  {
   "cell_type": "code",
   "execution_count": 4,
   "metadata": {},
   "outputs": [
    {
     "output_type": "execute_result",
     "data": {
      "text/plain": [
       "200"
      ]
     },
     "metadata": {},
     "execution_count": 4
    }
   ],
   "source": [
    "result.status_code# Response should be 200"
   ]
  },
  {
   "cell_type": "code",
   "execution_count": 75,
   "metadata": {
    "tags": []
   },
   "outputs": [
    {
     "output_type": "execute_result",
     "data": {
      "text/plain": [
       "['https://www.innvictus.com/p/000000000000181187',\n",
       " 'https://www.innvictus.com/p/000000000000188146',\n",
       " 'https://www.innvictus.com/p/000000000000209323',\n",
       " 'https://www.innvictus.com/p/000000000000209570',\n",
       " 'https://www.innvictus.com/p/000000000000185484',\n",
       " 'https://www.innvictus.com/p/000000000000182667',\n",
       " 'https://www.innvictus.com/p/000000000000210021',\n",
       " 'https://www.innvictus.com/p/000000000000188137',\n",
       " 'https://www.innvictus.com/p/000000000000188100',\n",
       " 'https://www.innvictus.com/p/000000000000186158',\n",
       " 'https://www.innvictus.com/p/000000000000188106',\n",
       " 'https://www.innvictus.com/p/000000000000188112',\n",
       " 'https://www.innvictus.com/p/000000000000185504',\n",
       " 'https://www.innvictus.com/p/000000000000182031']"
      ]
     },
     "metadata": {},
     "execution_count": 75
    }
   ],
   "source": [
    "from bs4 import BeautifulSoup\n",
    "import re\n",
    "import json\n",
    "soup = BeautifulSoup(result.content,'html.parser')\n",
    "links = soup.find('body').find_all(\"script\",attrs={'type':'text/javascript'})\n",
    "s = links[3] # links[3] element gives var products \n",
    "productVar = re.search(r'\\'(.*?)\\'', str(s))\n",
    "productDict = json.loads(productVar.group(0).replace(\"'{\\\"id\",\"[{\\\"id\").replace(\"\\\"}'\",\"\\\"}]\"))\n",
    "#print(productVar.group(0).replace(\"'{\\\"id\",\"[{\\\"id\").replace(\"\\\"}'\",\"\\\"}]\"))\n",
    "\n",
    "allLinks = []\n",
    "\n",
    "for tenis in productDict:\n",
    "    allLinks.append(\"https://www.innvictus.com/p/{id}\" .format(id=tenis['id']))\n",
    "\n",
    "allLinks"
   ]
  },
  {
   "source": [
    "## Tenis que no esta disponible"
   ],
   "cell_type": "markdown",
   "metadata": {}
  },
  {
   "cell_type": "code",
   "execution_count": 31,
   "metadata": {},
   "outputs": [],
   "source": [
    "notAvailable = client.get(url = 'https://www.innvictus.com/p/000000000000185504',headers=headers)"
   ]
  },
  {
   "cell_type": "code",
   "execution_count": 32,
   "metadata": {},
   "outputs": [
    {
     "output_type": "execute_result",
     "data": {
      "text/plain": [
       "<Response [200]>"
      ]
     },
     "metadata": {},
     "execution_count": 32
    }
   ],
   "source": [
    "notAvailable #Response should be 200"
   ]
  },
  {
   "cell_type": "code",
   "execution_count": 33,
   "metadata": {
    "tags": []
   },
   "outputs": [
    {
     "output_type": "execute_result",
     "data": {
      "text/plain": [
       "'Este producto no está disponible en este momento'"
      ]
     },
     "metadata": {},
     "execution_count": 33
    }
   ],
   "source": [
    "soupNotAvailable = BeautifulSoup(notAvailable.content,'html.parser')\n",
    "notFoundClass = soupNotAvailable.find('body').find(\"div\",attrs={'class':'pdp-notFound'}).text.strip()\n",
    "notFoundTitle = soupNotAvailable.find('title').text.strip()\n",
    "notFoundClass"
   ]
  },
  {
   "source": [
    "# Using Selenium"
   ],
   "cell_type": "markdown",
   "metadata": {}
  },
  {
   "cell_type": "code",
   "execution_count": null,
   "metadata": {},
   "outputs": [],
   "source": [
    "from selenium import webdriver\n",
    "\n",
    "from selenium.webdriver.chrome.options import Options\n",
    "\n",
    "import pandas as pd\n",
    "import time,random\n",
    "options = Options()\n",
    "options.headless = False\n",
    "options.add_argument(\"--window-size=1920,1200\")\n",
    "options.add_argument(\"--log-level=3\")\n",
    "options.add_argument(\"--disable-infobars\")\n",
    "options.add_experimental_option(\"prefs\",{\n",
    "    \"profile.default_content_setting_value.notifications\":1\n",
    "})\n",
    "\n",
    "DRIVER_PATH = 'C:/Users/Erick/projects/transparencia/chromedriver.exe'\n",
    "driver = webdriver.Chrome(options=options, executable_path=DRIVER_PATH)\n",
    "driver.get(\"https://www.innvictus.com/lanzamientos\")\n",
    "\n"
   ]
  },
  {
   "cell_type": "code",
   "execution_count": null,
   "metadata": {},
   "outputs": [],
   "source": [
    "itemsXpath = driver.find_elements_by_xpath(\"/html/body/main/div[4]/div[4]/div/*/*[@href]\")\n",
    "\n",
    "itemsClass = driver.find_elements_by_class_name(\"product\")\n",
    "links = driver.find_elements_by_class_name(\"go-to-buy ux-btn-notificarme\")\n"
   ]
  },
  {
   "cell_type": "code",
   "execution_count": null,
   "metadata": {},
   "outputs": [],
   "source": [
    "for item in itemsClass:\n",
    "    try:\n",
    "        print(item.find_element_by_xpath('a[@href]').get_property('href'))\n",
    "    except: \n",
    "        pass"
   ]
  },
  {
   "cell_type": "code",
   "execution_count": null,
   "metadata": {},
   "outputs": [],
   "source": [
    "for item in itemsXpath:\n",
    "    print(item.get_property('href'))"
   ]
  },
  {
   "source": [
    "# Pruebas save print"
   ],
   "cell_type": "markdown",
   "metadata": {}
  },
  {
   "cell_type": "code",
   "execution_count": 1,
   "metadata": {},
   "outputs": [],
   "source": [
    "from bs4 import BeautifulSoup\n",
    "import re\n",
    "import json\n",
    "from scraper_api import ScraperAPIClient\n",
    "\n",
    "class snkrs:\n",
    "    def __init__(self) -> None:\n",
    "        self.products = {}\n",
    "    def getInfoInnvictus(self,apiKey='aba275ef5f8f713e086a1a0ab240dd5c'):\n",
    "        \"\"\" Method to retrieve a dict given launching shoes on innvictus.com/lanzamientos \"\"\"\n",
    "        headers = {\n",
    "            'Connection': 'keep-alive',\n",
    "            'Cache-Control': 'max-age=0',\n",
    "            'Upgrade-Insecure-Requests': '1',\n",
    "            'User-Agent': 'Mozilla/5.0 (Windows NT 10.0; Win64; x64) AppleWebKit/537.36 (KHTML, like Gecko) Chrome/88.0.4324.150 Safari/537.36',\n",
    "            'Accept': 'text/html,application/xhtml+xml,application/xml;q=0.9,image/avif,image/webp,image/apng,*/*;q=0.8,application/signed-exchange;v=b3;q=0.9',\n",
    "            'Sec-Fetch-Site': 'none',\n",
    "            'Sec-Fetch-Mode': 'navigate',\n",
    "            'Sec-Fetch-User': '?1',\n",
    "            'Sec-Fetch-Dest': 'document',\n",
    "            'Accept-Language': 'es-MX,es;q=0.9,en-US;q=0.8,en;q=0.7,es-419;q=0.6',\n",
    "            'If-Modified-Since': 'Thu, 01 Jan 1970 00:00:01 GMT',\n",
    "        }\n",
    "\n",
    "        client = ScraperAPIClient(apiKey)\n",
    "    \n",
    "        result = client.get(url = 'https://www.innvictus.com/lanzamientos',headers=headers)\n",
    "        assert result.status_code == 200, f\"Status code {result.status_code}\"\n",
    "        \n",
    "        soup = BeautifulSoup(result.content,'html.parser')\n",
    "        links = soup.find('body').find_all(\"script\",attrs={'type':'text/javascript'})\n",
    "        s = links[3] # links[3] element gives var products \n",
    "        productVar = re.search(r'\\'(.*?)\\'', str(s))\n",
    "        productDict = json.loads(productVar.group(0).replace(\"'{\\\"id\",\"[{\\\"id\").replace(\"\\\"}'\",\"\\\"}]\"))\n",
    "        #print(productVar.group(0).replace(\"'{\\\"id\",\"[{\\\"id\").replace(\"\\\"}'\",\"\\\"}]\"))\n",
    "\n",
    "      \n",
    "        for tenis in productDict:\n",
    "            tenis['url'] = \"https://www.innvictus.com/p/{id}\" .format(id=tenis['id'])\n",
    "        self.products = productDict\n",
    "    #def selectSaveTargetShoes(self):\n",
    "        \n",
    "\n",
    "innvictusShoesLaunching = snkrs()\n",
    "innvictusShoesLaunching.getInfoInnvictus()\n"
   ]
  },
  {
   "cell_type": "code",
   "execution_count": 20,
   "metadata": {},
   "outputs": [
    {
     "output_type": "stream",
     "name": "stdout",
     "text": [
      "Selelction 1\n",
      "Shoe:  Harden Vol. 5 Futurenatural\n",
      "Launching date:  02-01-2021\n",
      "Price:  3499 \n",
      "\n",
      "Selelction 2\n",
      "Shoe:  AIR JORDAN 6 RETRO\n",
      "Launching date:  02-13-2021\n",
      "Price:  4299 \n",
      "\n",
      "Selelction 3\n",
      "Shoe:  The Roger Advantage\n",
      "Launching date:  02-14-2021\n",
      "Price:  3399 \n",
      "\n",
      "Selelction 4\n",
      "Shoe:  ARIZONA\n",
      "Launching date:  02-18-2021\n",
      "Price:  2599 \n",
      "\n",
      "Selelction 5\n",
      "Shoe:  RS-Fast International Flags\n",
      "Launching date:  02-18-2021\n",
      "Price:  2599 \n",
      "\n",
      "Selelction 6\n",
      "Shoe:  ZX 2K BOOST\n",
      "Launching date:  02-19-2021\n",
      "Price:  2799 \n",
      "\n",
      "Selelction 7\n",
      "Shoe:  Made With Love\n",
      "Launching date:  02-20-2021\n",
      "Price:  1599 \n",
      "\n",
      "Selelction 8\n",
      "Shoe:  AIR JORDAN 3 RETRO\n",
      "Launching date:  02-20-2021\n",
      "Price:  4099 \n",
      "\n",
      "Selelction 9\n",
      "Shoe:  AIR JORDAN 1 RETRO HIGH OG\n",
      "Launching date:  02-20-2021\n",
      "Price:  3599 \n",
      "\n",
      "Selelction 10\n",
      "Shoe:  NIKE AIR VAPORMAX EVO\n",
      "Launching date:  02-25-2021\n",
      "Price:  4499 \n",
      "\n",
      "Selelction 11\n",
      "Shoe:  Cosmic Unity\n",
      "Launching date:  02-26-2021\n",
      "Price:  3399 \n",
      "\n",
      "Selelction 12\n",
      "Shoe:  LeBron 18 Low\n",
      "Launching date:  02-26-2021\n",
      "Price:  3599 \n",
      "\n",
      "Selelction 13\n",
      "Shoe:  Peanuts x PUMA Ralph Sampson\n",
      "Launching date:  02-26-2021\n",
      "Price:  1999 \n",
      "\n",
      "Selelction 14\n",
      "Shoe:  CINNAMON Harden Vol. 5 Creator\n",
      "Launching date:  02-28-2021\n",
      "Price:  3499 \n",
      "\n",
      "[2, 3, 6]\n"
     ]
    }
   ],
   "source": [
    "i=0\n",
    "for shoes in innvictusShoesLaunching.products:\n",
    "    print(f\"Selelction {i}\")\n",
    "    print(\"Shoe: \",shoes['name2'])\n",
    "    print(\"Launching date: \",shoes['realdate'])\n",
    "    print(\"Price: \",shoes['price'],\"\\n\")\n",
    "    i+=1\n",
    "selectedShoe = [int(x) for x in input(\"Select shoe number to track\").split()]\n",
    "print(selectedShoe)"
   ]
  },
  {
   "cell_type": "code",
   "execution_count": 22,
   "metadata": {},
   "outputs": [
    {
     "output_type": "stream",
     "name": "stdout",
     "text": [
      "[{'id': '000000000000209323', 'name': '48.99457', 'estilo': '48.99457', 'date': '44241', 'month': 'Feb', 'day': '14', 'regster': '0', 'price': '3399', 'name2': 'The Roger Advantage', 'description': 'Regresa la colaboración de ON y Roger Federar y te traen los Tenis ON The Roger Advantage White Midnight para hombres. Combinan lo mejor de lo casual, correr y también tennis. Este calzado blanco con azul, hecho por ON, tiene una construcción de materiales sintéticos y reciclados. Lo que les brindan una mayor durabilidad. Son sencillos de ajustar, ya que tienen unas agujetas y lengüeta. Cuentan con las Tecnologías CloudTec y Speedboard en la suela que está hecha de goma. Esto te brindan pisadas cómodas, suaves, versátiles y también dan un mayor retorno de energía.', 'image': 'https://site.innovasport.com/iv/lanzamientos/2021/02-feb/48.99457.jpg', 'brand': 'ON', 'realdate': '02-14-2021', 'url': 'https://www.innvictus.com/p/000000000000209323'}, {'id': '000000000000209570', 'name': 'GZ2861', 'estilo': 'GZ2861', 'date': '44245', 'month': 'Feb', 'day': '18', 'regster': '0', 'price': '2599', 'name2': 'ARIZONA', 'description': '¡Espéralo!', 'image': 'https://site.innovasport.com/iv/lanzamientos/2021/02-feb/GZ2861.jpg', 'brand': 'ADIDAS', 'realdate': '02-18-2021', 'url': 'https://www.innvictus.com/p/000000000000209570'}, {'id': '000000000000210021', 'name': '171117C', 'estilo': '171117C', 'date': '44247', 'month': 'Feb', 'day': '20', 'regster': '0', 'price': '1599', 'name2': 'Made With Love', 'description': '¡Espéralo!', 'image': 'https://site.innovasport.com/iv/lanzamientos/2021/02-feb/171117C.jpg', 'brand': 'CONVERSE', 'realdate': '02-20-2021', 'url': 'https://www.innvictus.com/p/000000000000210021'}]\n"
     ]
    }
   ],
   "source": [
    "def takeFromDict(dct, listElements):\n",
    "    return [dct[element] for element in listElements]\n",
    "#print(type(innvictusShoesLaunching.products))\n",
    "print(takeDicts(innvictusShoesLaunching.products,selectedShoe))"
   ]
  },
  {
   "cell_type": "code",
   "execution_count": 27,
   "metadata": {},
   "outputs": [
    {
     "output_type": "execute_result",
     "data": {
      "text/plain": [
       "['https://www.innvictus.com/p/000000000000188137',\n",
       " 'https://www.innvictus.com/p/000000000000188100']"
      ]
     },
     "metadata": {},
     "execution_count": 27
    }
   ],
   "source": [
    "def isAvailable(listDict,fileName=None):\n",
    "        if fileName==None:\n",
    "            urls = [shoe['url'] for shoe in listDict]\n",
    "        else:\n",
    "            with open(fileName,'r') as targetShoes:\n",
    "                urls = [url.strip() for url in targetShoes]\n",
    "        return urls\n",
    "selected = takeDicts(innvictusShoesLaunching.products,selectedShoe)\n",
    "isAvailable(selected,fileName='TargetShoes.txt')"
   ]
  },
  {
   "cell_type": "code",
   "execution_count": null,
   "metadata": {},
   "outputs": [],
   "source": []
  }
 ]
}