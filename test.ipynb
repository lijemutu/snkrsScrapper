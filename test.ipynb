{
 "metadata": {
  "language_info": {
   "codemirror_mode": {
    "name": "ipython",
    "version": 3
   },
   "file_extension": ".py",
   "mimetype": "text/x-python",
   "name": "python",
   "nbconvert_exporter": "python",
   "pygments_lexer": "ipython3",
   "version": "3.8.5-final"
  },
  "orig_nbformat": 2,
  "kernelspec": {
   "name": "python3",
   "display_name": "Python 3",
   "language": "python"
  }
 },
 "nbformat": 4,
 "nbformat_minor": 2,
 "cells": [
  {
   "source": [
    "# Using ScraperApi service buscando var products ya que se genera automaticamente el codigo"
   ],
   "cell_type": "markdown",
   "metadata": {}
  },
  {
   "cell_type": "code",
   "execution_count": 46,
   "metadata": {},
   "outputs": [],
   "source": [
    "from scraper_api import ScraperAPIClient\n",
    "\n",
    "headers = {\n",
    "    'Connection': 'keep-alive',\n",
    "    'Cache-Control': 'max-age=0',\n",
    "    'Upgrade-Insecure-Requests': '1',\n",
    "    'User-Agent': 'Mozilla/5.0 (Windows NT 10.0; Win64; x64) AppleWebKit/537.36 (KHTML, like Gecko) Chrome/88.0.4324.150 Safari/537.36',\n",
    "    'Accept': 'text/html,application/xhtml+xml,application/xml;q=0.9,image/avif,image/webp,image/apng,*/*;q=0.8,application/signed-exchange;v=b3;q=0.9',\n",
    "    'Sec-Fetch-Site': 'none',\n",
    "    'Sec-Fetch-Mode': 'navigate',\n",
    "    'Sec-Fetch-User': '?1',\n",
    "    'Sec-Fetch-Dest': 'document',\n",
    "    'Accept-Language': 'es-MX,es;q=0.9,en-US;q=0.8,en;q=0.7,es-419;q=0.6',\n",
    "    'If-Modified-Since': 'Thu, 01 Jan 1970 00:00:01 GMT',\n",
    "}\n",
    "\n",
    "client = ScraperAPIClient('aba275ef5f8f713e086a1a0ab240dd5c')\n",
    "result = client.get(url = 'https://www.innvictus.com/lanzamientos',headers=headers)"
   ]
  },
  {
   "cell_type": "code",
   "execution_count": 47,
   "metadata": {},
   "outputs": [
    {
     "output_type": "execute_result",
     "data": {
      "text/plain": [
       "<Response [200]>"
      ]
     },
     "metadata": {},
     "execution_count": 47
    }
   ],
   "source": [
    "result # Response should be 200"
   ]
  },
  {
   "cell_type": "code",
   "execution_count": 75,
   "metadata": {
    "tags": []
   },
   "outputs": [
    {
     "output_type": "execute_result",
     "data": {
      "text/plain": [
       "['https://www.innvictus.com/p/000000000000181187',\n",
       " 'https://www.innvictus.com/p/000000000000188146',\n",
       " 'https://www.innvictus.com/p/000000000000209323',\n",
       " 'https://www.innvictus.com/p/000000000000209570',\n",
       " 'https://www.innvictus.com/p/000000000000185484',\n",
       " 'https://www.innvictus.com/p/000000000000182667',\n",
       " 'https://www.innvictus.com/p/000000000000210021',\n",
       " 'https://www.innvictus.com/p/000000000000188137',\n",
       " 'https://www.innvictus.com/p/000000000000188100',\n",
       " 'https://www.innvictus.com/p/000000000000186158',\n",
       " 'https://www.innvictus.com/p/000000000000188106',\n",
       " 'https://www.innvictus.com/p/000000000000188112',\n",
       " 'https://www.innvictus.com/p/000000000000185504',\n",
       " 'https://www.innvictus.com/p/000000000000182031']"
      ]
     },
     "metadata": {},
     "execution_count": 75
    }
   ],
   "source": [
    "from bs4 import BeautifulSoup\n",
    "import re\n",
    "import json\n",
    "soup = BeautifulSoup(result.content,'html.parser')\n",
    "links = soup.find('body').find_all(\"script\",attrs={'type':'text/javascript'})\n",
    "s = links[3] # links[3] element gives var products \n",
    "productVar = re.search(r'\\'(.*?)\\'', str(s))\n",
    "productDict = json.loads(productVar.group(0).replace(\"'{\\\"id\",\"[{\\\"id\").replace(\"\\\"}'\",\"\\\"}]\"))\n",
    "#print(productVar.group(0).replace(\"'{\\\"id\",\"[{\\\"id\").replace(\"\\\"}'\",\"\\\"}]\"))\n",
    "\n",
    "allLinks = []\n",
    "\n",
    "for tenis in productDict:\n",
    "    allLinks.append(\"https://www.innvictus.com/p/{id}\" .format(id=tenis['id']))\n",
    "\n",
    "allLinks"
   ]
  },
  {
   "source": [
    "## Tenis que no esta disponible"
   ],
   "cell_type": "markdown",
   "metadata": {}
  },
  {
   "cell_type": "code",
   "execution_count": 76,
   "metadata": {},
   "outputs": [],
   "source": [
    "notAvailable = client.get(url = 'https://www.innvictus.com/p/000000000000185504',headers=headers)"
   ]
  },
  {
   "cell_type": "code",
   "execution_count": 77,
   "metadata": {},
   "outputs": [
    {
     "output_type": "execute_result",
     "data": {
      "text/plain": [
       "<Response [200]>"
      ]
     },
     "metadata": {},
     "execution_count": 77
    }
   ],
   "source": [
    "notAvailable #Response should be 200"
   ]
  },
  {
   "cell_type": "code",
   "execution_count": 89,
   "metadata": {
    "tags": []
   },
   "outputs": [
    {
     "output_type": "execute_result",
     "data": {
      "text/plain": [
       "'No encontrado | Innvictus'"
      ]
     },
     "metadata": {},
     "execution_count": 89
    }
   ],
   "source": [
    "soupNotAvailable = BeautifulSoup(notAvailable.content,'html.parser')\n",
    "notFoundClass = soupNotAvailable.find('body').find(\"div\",attrs={'class':'pdp-notFound'}).text.strip()\n",
    "notFoundTitle = soupNotAvailable.find('title').text.strip()\n",
    "notFoundTitle"
   ]
  },
  {
   "source": [
    "# Using Selenium"
   ],
   "cell_type": "markdown",
   "metadata": {}
  },
  {
   "cell_type": "code",
   "execution_count": null,
   "metadata": {},
   "outputs": [],
   "source": [
    "from selenium import webdriver\n",
    "\n",
    "from selenium.webdriver.chrome.options import Options\n",
    "\n",
    "import pandas as pd\n",
    "import time,random\n",
    "options = Options()\n",
    "options.headless = False\n",
    "options.add_argument(\"--window-size=1920,1200\")\n",
    "options.add_argument(\"--log-level=3\")\n",
    "options.add_argument(\"--disable-infobars\")\n",
    "options.add_experimental_option(\"prefs\",{\n",
    "    \"profile.default_content_setting_value.notifications\":1\n",
    "})\n",
    "\n",
    "DRIVER_PATH = 'C:/Users/Erick/projects/transparencia/chromedriver.exe'\n",
    "driver = webdriver.Chrome(options=options, executable_path=DRIVER_PATH)\n",
    "driver.get(\"https://www.innvictus.com/lanzamientos\")\n",
    "\n"
   ]
  },
  {
   "cell_type": "code",
   "execution_count": null,
   "metadata": {},
   "outputs": [],
   "source": [
    "itemsXpath = driver.find_elements_by_xpath(\"/html/body/main/div[4]/div[4]/div/*/*[@href]\")\n",
    "\n",
    "itemsClass = driver.find_elements_by_class_name(\"product\")\n",
    "links = driver.find_elements_by_class_name(\"go-to-buy ux-btn-notificarme\")\n"
   ]
  },
  {
   "cell_type": "code",
   "execution_count": null,
   "metadata": {},
   "outputs": [],
   "source": [
    "for item in itemsClass:\n",
    "    try:\n",
    "        print(item.find_element_by_xpath('a[@href]').get_property('href'))\n",
    "    except: \n",
    "        pass"
   ]
  },
  {
   "cell_type": "code",
   "execution_count": null,
   "metadata": {},
   "outputs": [],
   "source": [
    "for item in itemsXpath:\n",
    "    print(item.get_property('href'))"
   ]
  },
  {
   "cell_type": "code",
   "execution_count": null,
   "metadata": {},
   "outputs": [],
   "source": []
  },
  {
   "cell_type": "code",
   "execution_count": null,
   "metadata": {},
   "outputs": [],
   "source": []
  }
 ]
}